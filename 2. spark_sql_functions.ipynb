{
 "cells": [
  {
   "cell_type": "markdown",
   "id": "surface-potato",
   "metadata": {},
   "source": [
    "# Spark SQL: funciones\n",
    "\n",
    "#### Máster en Data Science y Big Data, AFI Escuela de Finanzas\n",
    "#### Claudia Quintana Wong"
   ]
  },
  {
   "cell_type": "markdown",
   "id": "northern-chassis",
   "metadata": {},
   "source": [
    "## Descripción de ficheros\n",
    "\n",
    "Fichero albums.tsv:\n",
    "* id: Identificador único del disco.\n",
    "* title: Título del disco.\n",
    "\n",
    "Fichero artists.tsv:\n",
    "\n",
    "* id: Identificador único del artista.\n",
    "* name: Nombre del artista.\n",
    "* hotness: Nivel de popularidad del artista.\n",
    "* familiarity: Reconocimiento del artista.\n",
    "* location: Ubicación del artista.\n",
    "\n",
    "\n",
    "Fichero songs.tsv:\n",
    "\n",
    "* id: Identificador único de la canción.\n",
    "* title: Título de la canción.\n",
    "* year: Año de publicación de la canción.\n",
    "* hotness: Popularidad de la canción.\n",
    "* id_artist: Identificador único del artista de la canción.\n",
    "* id_album: Identificador único del álbum de la canción.\n",
    "* duration: Duración en segundos de la canción.\n",
    "* end_of_fade_in: Segundo de la canción en el que termina el fade in.\n",
    "* start_of_fade_out: Segundo de la canción en el que empieza el fade out.\n",
    "* tempo: Tempo de la canción.\n",
    "* time_signature: Número de tiempos por compás de la canción.\n",
    "* key: Escala de la canción (de 0 a 11).\n",
    "* loudness: Volumen de la canción.\n",
    "* mode: Tipo de escala de la canción (mayor = 0 o menor = 1)\n",
    "* style: Estilo de la canción."
   ]
  },
  {
   "cell_type": "markdown",
   "id": "incorporated-sacramento",
   "metadata": {},
   "source": [
    "## Carga de datos"
   ]
  },
  {
   "cell_type": "code",
   "execution_count": 1,
   "id": "impressive-pilot",
   "metadata": {},
   "outputs": [],
   "source": [
    "from pyspark.sql.types import Row\n",
    "from pyspark.sql import functions as F"
   ]
  },
  {
   "cell_type": "code",
   "execution_count": 2,
   "id": "lasting-wales",
   "metadata": {},
   "outputs": [],
   "source": [
    "def albumParser(line):\n",
    "    fields = line.split('\\t')\n",
    "    return Row(id = fields[0], title = fields[1])\n",
    "\n",
    "def artistParser(line):\n",
    "    fields = line.split('\\t')\n",
    "    return Row(id=fields[0], \n",
    "               name = fields[1], \n",
    "               hotness = float(fields[2]), \n",
    "               familiarity = fields[3], \n",
    "               location = fields[4])\n",
    "\n",
    "def songParser(line):\n",
    "    fields = line.split('\\t')\n",
    "    return Row(id = fields[0],\n",
    "               title = fields[1],\n",
    "               year = int(fields[2]),\n",
    "               hotness = float(fields[3]) if fields[3] != 'NA' else 0,\n",
    "               id_artist = fields[4],\n",
    "               id_album = fields[5],\n",
    "               duration = float(fields[6]),\n",
    "               end_of_fade_in = float(fields[7]),\n",
    "               start_of_fade_out = float(fields[8]),\n",
    "               tempo = float(fields[9]),\n",
    "               time_signature = fields[10],\n",
    "               key = fields[11],\n",
    "               loudness = float(fields[12]),\n",
    "               mode = int(fields[13]),\n",
    "               style = fields[14])"
   ]
  },
  {
   "cell_type": "code",
   "execution_count": 3,
   "id": "contained-interface",
   "metadata": {},
   "outputs": [],
   "source": [
    "data_folder = './data'\n",
    "\n",
    "albums = sc.textFile(f'{data_folder}/albums.tsv')\n",
    "artists = sc.textFile(f'{data_folder}/artists.tsv')\n",
    "songs = sc.textFile(f'{data_folder}/songs.tsv')"
   ]
  },
  {
   "cell_type": "code",
   "execution_count": 4,
   "id": "grave-anxiety",
   "metadata": {},
   "outputs": [],
   "source": [
    "albums_rows = albums.map(albumParser)\n",
    "artists_rows = artists.map(artistParser)\n",
    "songs_rows = songs.map(songParser)"
   ]
  },
  {
   "cell_type": "code",
   "execution_count": 5,
   "id": "forward-hollywood",
   "metadata": {},
   "outputs": [],
   "source": [
    "album_df = spark.createDataFrame(albums_rows)\n",
    "artist_df = spark.createDataFrame(artists_rows)\n",
    "song_df = spark.createDataFrame(songs_rows)"
   ]
  },
  {
   "cell_type": "markdown",
   "id": "bridal-repair",
   "metadata": {},
   "source": [
    "### Inspección de los dataframes"
   ]
  },
  {
   "cell_type": "code",
   "execution_count": 6,
   "id": "operational-schema",
   "metadata": {},
   "outputs": [
    {
     "data": {
      "text/plain": [
       "[('id', 'string'), ('title', 'string')]"
      ]
     },
     "execution_count": 6,
     "metadata": {},
     "output_type": "execute_result"
    }
   ],
   "source": [
    "album_df.dtypes"
   ]
  },
  {
   "cell_type": "code",
   "execution_count": 7,
   "id": "positive-phoenix",
   "metadata": {},
   "outputs": [
    {
     "data": {
      "text/plain": [
       "[('familiarity', 'string'),\n",
       " ('hotness', 'double'),\n",
       " ('id', 'string'),\n",
       " ('location', 'string'),\n",
       " ('name', 'string')]"
      ]
     },
     "execution_count": 7,
     "metadata": {},
     "output_type": "execute_result"
    }
   ],
   "source": [
    "artist_df.dtypes"
   ]
  },
  {
   "cell_type": "code",
   "execution_count": 8,
   "id": "separated-perth",
   "metadata": {},
   "outputs": [
    {
     "data": {
      "text/plain": [
       "[('duration', 'double'),\n",
       " ('end_of_fade_in', 'double'),\n",
       " ('hotness', 'double'),\n",
       " ('id', 'string'),\n",
       " ('id_album', 'string'),\n",
       " ('id_artist', 'string'),\n",
       " ('key', 'string'),\n",
       " ('loudness', 'double'),\n",
       " ('mode', 'bigint'),\n",
       " ('start_of_fade_out', 'double'),\n",
       " ('style', 'string'),\n",
       " ('tempo', 'double'),\n",
       " ('time_signature', 'string'),\n",
       " ('title', 'string'),\n",
       " ('year', 'bigint')]"
      ]
     },
     "execution_count": 8,
     "metadata": {},
     "output_type": "execute_result"
    }
   ],
   "source": [
    "song_df.dtypes"
   ]
  },
  {
   "cell_type": "markdown",
   "id": "alpha-space",
   "metadata": {},
   "source": [
    "Es necesario aclarar que la interpretación dada a cada una de las preguntas en el ejercicio de Spark-Core es la misma aplicada en este ejercicio."
   ]
  },
  {
   "cell_type": "markdown",
   "id": "copyrighted-pontiac",
   "metadata": {},
   "source": [
    "### 1. ¿Cuál es el estilo más rápido (tempo) en media?"
   ]
  },
  {
   "cell_type": "markdown",
   "id": "contrary-sacrifice",
   "metadata": {},
   "source": [
    "Para dar respuesta a esta consulta seguiremos los siguientes pasos:\n",
    "\n",
    "1. Agrupar las canciones por estilo\n",
    "2. Hallar la media en cada grupo teniendo en cuenta la variable *tempo*\n",
    "3. Ordenar de manera ascendente de acuerdo a la media calculada y tomar el primer elemento."
   ]
  },
  {
   "cell_type": "code",
   "execution_count": 9,
   "id": "endless-subscription",
   "metadata": {},
   "outputs": [
    {
     "data": {
      "text/plain": [
       "[Row(style='rebetika', avg(tempo)=47.447)]"
      ]
     },
     "execution_count": 9,
     "metadata": {},
     "output_type": "execute_result"
    }
   ],
   "source": [
    "grouped_df = song_df.select('style', 'tempo').groupBy('style').mean()\n",
    "grouped_df.orderBy('avg(tempo)').take(1)"
   ]
  },
  {
   "cell_type": "markdown",
   "id": "accredited-compact",
   "metadata": {},
   "source": [
    "### 2. ¿Cuales son los 5 artistas, ubicados en UK (cualquier territorio de UK), con mayor número de canciones en escala menor (mode = 1)?"
   ]
  },
  {
   "cell_type": "markdown",
   "id": "changing-jimmy",
   "metadata": {},
   "source": [
    "Para dar respuesta a esta interrogante seguiremo los siguientes pasos:\n",
    "\n",
    "1. Obtener los artistas ubicados en UK (cualquier territorio de UK)\n",
    "2. Seleccionar las canciones en escala menor\n",
    "3. Mezclar los artistas de UK con las canciones seleccionadas\n",
    "4. Hacer un conteo de canciones por artista\n",
    "5. Ordenar descendientemente los artistas de acuerdo al conteo y seleccionar los 5 primeros"
   ]
  },
  {
   "cell_type": "code",
   "execution_count": 10,
   "id": "featured-dylan",
   "metadata": {},
   "outputs": [
    {
     "data": {
      "text/plain": [
       "[Row(id_artist='AR9W3X91187FB3994C', name='Phil Collins', sum(mode)=9),\n",
       " Row(id_artist='ARH6W4X1187B99274F', name='Radiohead', sum(mode)=7),\n",
       " Row(id_artist='ARFCUN31187B9AD578', name='The Rolling Stones', sum(mode)=7),\n",
       " Row(id_artist='ARAIABB1187B9AC6E2', name='Seal', sum(mode)=6),\n",
       " Row(id_artist='ARD8JVH1187FB4DA04', name='Bad Company', sum(mode)=6)]"
      ]
     },
     "execution_count": 10,
     "metadata": {},
     "output_type": "execute_result"
    }
   ],
   "source": [
    "uk_artists = artist_df.where(artist_df.location.contains('UK') | \n",
    "                             artist_df.location.contains('United Kingdom') |\n",
    "                             artist_df.location.contains('England')).select('name', 'location', (artist_df.id).alias('id_artist'))\n",
    "minor_songs = song_df.where(song_df.mode == 1).select('id_artist', 'mode')\n",
    "joined = uk_artists.join(minor_songs, on=['id_artist'], how='inner')\n",
    "joined.groupBy(['id_artist', 'name']).sum().orderBy('sum(mode)', ascending=False).take(5)"
   ]
  },
  {
   "cell_type": "markdown",
   "id": "later-astronomy",
   "metadata": {},
   "source": [
    "### 3. Desde 1970 hasta hoy, ¿las canciones son más rápidas (tempo), altas (loudness) y cortas (duration) en media? Ordena los resultados por año ascendente."
   ]
  },
  {
   "cell_type": "markdown",
   "id": "listed-poster",
   "metadata": {},
   "source": [
    "Se seguirán los siguientes pasos:\n",
    "\n",
    "1. Seleccionar las canciones de 1970 hasta hoy\n",
    "2. Seleccionar las columnas: *tempo*, *loudness*, *duration*\n",
    "3. Agrupar las canciones por año y calcular la media de las variables selecciondas\n",
    "4. Ordenar las canciones ascendentemente según el año de lanzamiento"
   ]
  },
  {
   "cell_type": "code",
   "execution_count": 11,
   "id": "julian-casino",
   "metadata": {},
   "outputs": [
    {
     "name": "stdout",
     "output_type": "stream",
     "text": [
      "+----+------------------+-------------------+------------------+\n",
      "|year|        avg(tempo)|      avg(loudness)|     avg(duration)|\n",
      "+----+------------------+-------------------+------------------+\n",
      "|1970|121.34628571428571| -11.92847619047619|231.42578619047623|\n",
      "|1971|         136.16196|-12.153000000000002|259.55428919999997|\n",
      "|1972|129.17204166666667|-11.719291666666665|238.54539750000004|\n",
      "|1973|        116.356125|-11.711541666666667|294.16444416666667|\n",
      "|1974|125.08609090909088|-10.670681818181817|239.49134636363635|\n",
      "|1975|125.41183333333333|-11.249541666666666| 277.4406354166667|\n",
      "|1976|137.26139999999998|           -11.6584| 210.9940493333333|\n",
      "|1977|139.33685714285713|-11.820114285714284|255.30692800000003|\n",
      "|1978|         134.38385|           -10.1125|247.85456749999997|\n",
      "|1979|137.51694444444445|-11.879083333333334| 226.0566886111111|\n",
      "|1980|126.89337499999999|       -11.09853125|     210.438730625|\n",
      "|1981|127.96074999999999|-11.570444444444446|211.69224499999999|\n",
      "|1982|         125.14522|-11.348739999999998|251.23742419999996|\n",
      "|1983|126.14368085106385| -12.30287234042553|237.46428063829788|\n",
      "|1984|         127.95625|-12.015031250000002|         239.31873|\n",
      "|1985|132.86585294117648|-10.313735294117645|242.61716941176468|\n",
      "|1986|126.46589189189187| -11.36972972972973|237.45331405405403|\n",
      "|1987|124.62895454545452|-11.076636363636363|246.30455568181816|\n",
      "|1988|124.96954098360652|-10.131918032786885|221.76072409836067|\n",
      "|1989|124.09290909090909|-12.034439393939392| 243.4014021212121|\n",
      "+----+------------------+-------------------+------------------+\n",
      "only showing top 20 rows\n",
      "\n"
     ]
    }
   ],
   "source": [
    "song_time = song_df.select('id', 'year', 'tempo', 'loudness', 'duration').where(song_df.year >= 1970)\n",
    "grouped = song_time.groupBy('year').mean().select('year', 'avg(tempo)', 'avg(loudness)', 'avg(duration)')\n",
    "grouped.orderBy('year').show()"
   ]
  },
  {
   "cell_type": "markdown",
   "id": "intelligent-second",
   "metadata": {},
   "source": [
    "### 4. ¿Cuál es el estilo que más abusa de los efectos de fade in y fade out (mayor número de segundos desde inicio al final del fade in más desde el inicio del fade out al final de la canción)?"
   ]
  },
  {
   "cell_type": "markdown",
   "id": "analyzed-partner",
   "metadata": {},
   "source": [
    "Se utiliza la misma expresión de cálculo empleada para resolver la consulta en Spark Core.\n",
    "\n",
    "$$end\\_of\\_fade\\_in + duration - start\\_of\\_fade\\_out$$\n",
    "\n",
    "Para encontrar el estilo que más abusa de estos efectos se determina la canción que cumple este requisito y se devuelve el estilo asociado.\n",
    "\n",
    "Los pasos a seguir son:\n",
    "\n",
    "1. Calcular la expresión para cada canción de la base de datos\n",
    "2. Ordenar de manera descendente según la métrica calculada\n",
    "3. Devolver el estilo de la primera observación en el resultado anterio"
   ]
  },
  {
   "cell_type": "code",
   "execution_count": 12,
   "id": "dying-bobby",
   "metadata": {},
   "outputs": [],
   "source": [
    "fades_effect = song_df.select('id', 'title', 'style', \n",
    "               (song_df.end_of_fade_in + song_df.duration - song_df.start_of_fade_out)\n",
    "               .alias('fades_effect')).orderBy('fades_effect', ascending=False).take(1)\n"
   ]
  },
  {
   "cell_type": "markdown",
   "id": "attempted-collect",
   "metadata": {},
   "source": [
    "### Intepretación 2\n",
    "El estilo que más abusa de los efectos fades es aquel en que sus canciones abusan más de este efecto en media"
   ]
  },
  {
   "cell_type": "code",
   "execution_count": 13,
   "id": "competent-passenger",
   "metadata": {},
   "outputs": [
    {
     "data": {
      "text/plain": [
       "[Row(style='industrial dance', avg(fades_effect)=61.67226499999998)]"
      ]
     },
     "execution_count": 13,
     "metadata": {},
     "output_type": "execute_result"
    }
   ],
   "source": [
    "fades_effect_1 = song_df.select('id', 'title', 'style', \n",
    "               (song_df.end_of_fade_in + song_df.duration - song_df.start_of_fade_out)\n",
    "               .alias('fades_effect'))\n",
    "\n",
    "fades_effect = fades_effect_1.groupBy('style').mean().orderBy('avg(fades_effect)', ascending=False)\n",
    "fades_effect.take(1)"
   ]
  },
  {
   "cell_type": "markdown",
   "id": "modern-romania",
   "metadata": {},
   "source": [
    "### 5. ¿Cual es la canción más popular (hotness) de los 5 artistas más populares (hotness)?\n",
    "\n",
    "Para resolver esta consulta se siguieron los siguientes pasos:\n",
    "\n",
    "1. Ordenar los artistas según su popularidad y tomar los 5 más populares.\n",
    "2. Agrupar las canciones por artista y quedarnos con la que mayor popularidad tiene en cada grupo\n",
    "3. Hacer un join entre la lista de los 5 artistas más populares y la lista de la canción más popular por artista\n",
    "\n",
    "El resultado final se compone de tuplas de la forma:\n",
    "\n",
    "$$id\\_artist, artist\\_name, artist\\_hotness, song\\_id, song\\_title, song\\_hotness$$"
   ]
  },
  {
   "cell_type": "code",
   "execution_count": 14,
   "id": "guilty-sunset",
   "metadata": {},
   "outputs": [],
   "source": [
    "top_5_artists = artist_df.select((artist_df.id).alias('id_artist'), 'name', 'hotness').orderBy('hotness', ascending=False).take(5)\n",
    "top_5_artists= spark.createDataFrame(top_5_artists)\n",
    "top_songs_per_artist = song_df.filter(song_df.hotness.isNotNull()).select(\n",
    "    'id_artist', \n",
    "    'title', \n",
    "    (song_df.hotness).alias('song_hotness')).join(\n",
    "    top_5_artists, on='id_artist').groupBy('id_artist').max()"
   ]
  },
  {
   "cell_type": "code",
   "execution_count": 15,
   "id": "answering-integrity",
   "metadata": {},
   "outputs": [
    {
     "name": "stdout",
     "output_type": "stream",
     "text": [
      "+------------------+---------------+-----------+------------------+--------------------+-----------------+\n",
      "|         id_artist|           name|    hotness|                id|               title|max(song_hotness)|\n",
      "+------------------+---------------+-----------+------------------+--------------------+-----------------+\n",
      "|ARRH63Y1187FB47783|     Kanye West|1.082502557|SOJMUAN12AB0183911|       Street Lights|      0.814517241|\n",
      "|ARF8HTQ1187B9AE693|      Daft Punk|1.021255588|SONJBQX12A6D4F8382|             Da Funk|        0.8622545|\n",
      "|ARTDQRC1187FB4EFD4|Black Eyed Peas|1.005941966|SOCHRXB12A8AE48069|Let's Get It Started|      0.624425493|\n",
      "|ARS54I31187FB46721|   Taylor Swift|0.922412443|SOTNWCI12AAF3B2028| The Way I Loved You|      0.853828893|\n",
      "|ARJ7KF01187B98D717|       Coldplay|0.916053228|SOEHTZE12A6310F0F2|          One I Love|      0.810263613|\n",
      "+------------------+---------------+-----------+------------------+--------------------+-----------------+\n",
      "\n"
     ]
    }
   ],
   "source": [
    "join = song_df.select('id', \n",
    "                      'id_artist', \n",
    "                      'title',\n",
    "                      song_df.hotness.alias('max(song_hotness)')).join(\n",
    "    top_songs_per_artist,\n",
    "    on=['id_artist', 'max(song_hotness)']).join(\n",
    "    artist_df.select(artist_df.id.alias('id_artist'), 'name', 'hotness'), \n",
    "    on=['id_artist']).select('id_artist', \n",
    "                             'name', 'hotness',\n",
    "                             'id', 'title', \n",
    "                             'max(song_hotness)').orderBy('hotness', ascending=False).show()"
   ]
  }
 ],
 "metadata": {
  "kernelspec": {
   "display_name": "Python 3",
   "language": "python",
   "name": "python3"
  },
  "language_info": {
   "codemirror_mode": {
    "name": "ipython",
    "version": 3
   },
   "file_extension": ".py",
   "mimetype": "text/x-python",
   "name": "python",
   "nbconvert_exporter": "python",
   "pygments_lexer": "ipython3",
   "version": "3.6.8"
  }
 },
 "nbformat": 4,
 "nbformat_minor": 5
}
