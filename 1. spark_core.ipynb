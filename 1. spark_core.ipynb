{
 "cells": [
  {
   "cell_type": "markdown",
   "id": "medical-cemetery",
   "metadata": {},
   "source": [
    "# Spark - Core\n",
    "\n",
    "#### Máster en Data Science y Big Data, AFI Escuela de Finanzas\n",
    "#### Claudia Quintana Wong"
   ]
  },
  {
   "cell_type": "markdown",
   "id": "ruled-statement",
   "metadata": {},
   "source": [
    "## Descripción de ficheros\n",
    "\n",
    "Fichero albums.tsv:\n",
    "* id: Identificador único del disco.\n",
    "* title: Título del disco.\n",
    "\n",
    "Fichero artists.tsv:\n",
    "\n",
    "* id: Identificador único del artista.\n",
    "* name: Nombre del artista.\n",
    "* hotness: Nivel de popularidad del artista.\n",
    "* familiarity: Reconocimiento del artista.\n",
    "* location: Ubicación del artista.\n",
    "\n",
    "\n",
    "Fichero songs.tsv:\n",
    "\n",
    "* id: Identificador único de la canción.\n",
    "* title: Título de la canción.\n",
    "* year: Año de publicación de la canción.\n",
    "* hotness: Popularidad de la canción.\n",
    "* id_artist: Identificador único del artista de la canción.\n",
    "* id_album: Identificador único del álbum de la canción.\n",
    "* duration: Duración en segundos de la canción.\n",
    "* end_of_fade_in: Segundo de la canción en el que termina el fade in.\n",
    "* start_of_fade_out: Segundo de la canción en el que empieza el fade out.\n",
    "* tempo: Tempo de la canción.\n",
    "* time_signature: Número de tiempos por compás de la canción.\n",
    "* key: Escala de la canción (de 0 a 11).\n",
    "* loudness: Volumen de la canción.\n",
    "* mode: Tipo de escala de la canción (mayor = 0 o menor = 1)\n",
    "* style: Estilo de la canción."
   ]
  },
  {
   "cell_type": "markdown",
   "id": "ancient-continent",
   "metadata": {},
   "source": [
    "## Carga de datos"
   ]
  },
  {
   "cell_type": "markdown",
   "id": "respiratory-dream",
   "metadata": {},
   "source": [
    "Inicialmente se leen y cargan los datos en memoria. Al ser archivos de de tipo .tsv es necesario separar caa una de las columnas haciendo *split* por el tabulador (\\t)"
   ]
  },
  {
   "cell_type": "code",
   "execution_count": 1,
   "id": "detected-moral",
   "metadata": {},
   "outputs": [],
   "source": [
    "data_folder = './data'\n",
    "\n",
    "albums = sc.textFile(f'{data_folder}/albums.tsv')\n",
    "artists = sc.textFile(f'{data_folder}/artists.tsv')\n",
    "songs = sc.textFile(f'{data_folder}/songs.tsv')"
   ]
  },
  {
   "cell_type": "code",
   "execution_count": 2,
   "id": "color-chile",
   "metadata": {},
   "outputs": [],
   "source": [
    "def splitLine(line):\n",
    "    return line.split('\\t')\n",
    "\n",
    "albums_rdd = albums.map(splitLine)\n",
    "artists_rdd = artists.map(splitLine)\n",
    "songs_rdd = songs.map(splitLine)"
   ]
  },
  {
   "cell_type": "markdown",
   "id": "unusual-tokyo",
   "metadata": {},
   "source": [
    "### 1. ¿Cuál es el estilo más rápido (tempo) en media?"
   ]
  },
  {
   "cell_type": "markdown",
   "id": "empirical-petroleum",
   "metadata": {},
   "source": [
    "Para dar respuesta a esta interrogante, primeramente se parsea cada observación, dejando solo las variables *style* y *tempo* de cada canción. Posteriormente, se agrupan las canciones por estilo y se calcula la media del *tempo* por grupo. Es importante destacar que la función de media (*parse_group*) fue implementada desde cero. Finalmente, se organizan los grupos ascendentemente de acuerdo a la media calculada y se da como respuesta el primer elemento. Como resultado se obtiene que el estilo más rápido en media es *rebetika*."
   ]
  },
  {
   "cell_type": "code",
   "execution_count": 3,
   "id": "cardiac-prisoner",
   "metadata": {},
   "outputs": [
    {
     "data": {
      "text/plain": [
       "[(47.447, 'rebetika')]"
      ]
     },
     "execution_count": 3,
     "metadata": {},
     "output_type": "execute_result"
    }
   ],
   "source": [
    "def parse(row):\n",
    "    return (row[14], row[9])\n",
    "\n",
    "def parse_group(row):\n",
    "    tempos = [float(value) for key, value in row[1]]\n",
    "    avg = sum(tempos)/len(tempos)\n",
    "    return (avg, row[0])\n",
    "\n",
    "songs_rdd3 = songs_rdd.map(parse)\n",
    "songs_rdd4 = songs_rdd3.groupBy(lambda item: item[0])\n",
    "songs_rdd5 = songs_rdd4.map(parse_group)\n",
    "songs_rdd6 = songs_rdd5.sortByKey().take(1)\n",
    "songs_rdd6"
   ]
  },
  {
   "cell_type": "markdown",
   "id": "explicit-senator",
   "metadata": {},
   "source": [
    "###  2. ¿Cuales son los 5 artistas, ubicados en UK (cualquier territorio de UK), con mayor número de canciones en escala menor (mode = 1)?"
   ]
  },
  {
   "cell_type": "markdown",
   "id": "protective-austin",
   "metadata": {},
   "source": [
    "Inicialmente, es necesario filtrar por los artistas que están ubicados en cualquier territorio de UK. Para comprobar esta condición se comprueba que 'UK', 'United Kingdom' o 'England' sea una de las palabras que componen el nombre de la locación. Aunque se pudo observar que hay otros territorios que pueden o no pertenecer a UK, puesto que los nombres de los territorios no aparecen escritos en un formato estándar se ha decidido incluir solo estas comprobaciones porque se considera que estas palabras representan unívocamente territorios de UK. \n",
    "\n",
    "Por ejemplo, aparece el territorio \"Ireland\" pero no es suficiente para saber si se refiere a Irlanda del Norte o simplemente a Irlanda (que no pertenece a UK). Otro ejemplo es el de \"Nottingham\", donde tampoco se puede distinguir si se refiere a la ciudad inglesa o a un pueblo estadounidense ubicado en Nuevo Hampshire. \n",
    "\n",
    "La idea que se sigue para resolver este ejercio es determinar cuáles son los artistas de UK y cuáles con las canciones en escala menor. De manera que, luego a través de un *join* se puede asociar cada artista con sus canciones y contar cuántas canciones de cada artista cumplen la condición. Se ordenan cada uno de los resultados de manera descendente según la cantidad de canciones y se recuperan las primeras observaciones.\n",
    "\n",
    "Los resultados se presentan en forma de tuplas donde la llave es la cantidad de canciones de un artista y el valor pertenece a información del artista. "
   ]
  },
  {
   "cell_type": "code",
   "execution_count": 4,
   "id": "southwest-seven",
   "metadata": {},
   "outputs": [],
   "source": [
    "artists_rdd1 = artists_rdd.filter(lambda row: 'UK' in row[4].split() or \n",
    "                                  'United Kingdom' in row[4] or \n",
    "                                  'England' in row[4].split())\n",
    "artists_rdd2 = artists_rdd1.map(lambda row: (row[0], row))\n",
    "songs_rdd1 = songs_rdd.filter(lambda row: row[13] == '1')\n",
    "songs_rdd2 = songs_rdd1.map(lambda row: row[4])\n",
    "songs_rdd3 = songs_rdd2.groupBy(lambda item: item)\n",
    "songs_rdd4 = songs_rdd3.map(lambda item: (item[0],len(item[1])))"
   ]
  },
  {
   "cell_type": "code",
   "execution_count": 5,
   "id": "cross-hollow",
   "metadata": {},
   "outputs": [
    {
     "data": {
      "text/plain": [
       "[(9,\n",
       "  ['AR9W3X91187FB3994C',\n",
       "   'Phil Collins',\n",
       "   '0.584836889',\n",
       "   '0.814506224',\n",
       "   'Chiswick, London, England']),\n",
       " (7,\n",
       "  ['ARFCUN31187B9AD578',\n",
       "   'The Rolling Stones',\n",
       "   '0.776037656',\n",
       "   '0.814829656',\n",
       "   'London, England']),\n",
       " (7,\n",
       "  ['ARH6W4X1187B99274F',\n",
       "   'Radiohead',\n",
       "   '0.68365806',\n",
       "   '0.899934952',\n",
       "   'Oxford, UK']),\n",
       " (6,\n",
       "  ['ARD8JVH1187FB4DA04',\n",
       "   'Bad Company',\n",
       "   '0.482100019',\n",
       "   '0.696816892',\n",
       "   'England']),\n",
       " (6,\n",
       "  ['ARAIABB1187B9AC6E2',\n",
       "   'Seal',\n",
       "   '0.580013183',\n",
       "   '0.567313224',\n",
       "   'Paddington, London, England'])]"
      ]
     },
     "execution_count": 5,
     "metadata": {},
     "output_type": "execute_result"
    }
   ],
   "source": [
    "join_rdd = artists_rdd2.join(songs_rdd4)\n",
    "join_rdd1 = join_rdd.map(lambda item: (item[1][1], item[1][0])).sortByKey(ascending=False).take(5)\n",
    "join_rdd1"
   ]
  },
  {
   "cell_type": "markdown",
   "id": "saved-pantyhose",
   "metadata": {},
   "source": [
    "### 3. Desde 1970 hasta hoy, ¿las canciones son más rápidas (tempo), altas (loudness) y cortas (duration) en media? Ordena los resultados por año ascendente."
   ]
  },
  {
   "cell_type": "markdown",
   "id": "martial-studio",
   "metadata": {},
   "source": [
    "Para resolver esta consulta primeramente se filtran las canciones que hayan sido lanzadas después de 1970 y se agrupan las observaciones por *year* y posteriormente, calcularemos la media de *tempo*, *loudness* y *duration* con el fin de comprobar si las canciones tienden a ser más rápidas, altas y cortas con el pasar de los años. Los resultados consisten en el año y la media de cada una de estas variables en el orden mencionado. \n"
   ]
  },
  {
   "cell_type": "code",
   "execution_count": 6,
   "id": "prescription-family",
   "metadata": {},
   "outputs": [],
   "source": [
    "songs_rdd5 = songs_rdd.filter(lambda item: int(item[2]) >= 1970)\n",
    "songs_rdd6 = songs_rdd5.groupBy(lambda item: item[2])"
   ]
  },
  {
   "cell_type": "code",
   "execution_count": 7,
   "id": "completed-gnome",
   "metadata": {},
   "outputs": [
    {
     "data": {
      "text/plain": [
       "[('1970', [121.34628571428576, -11.92847619047619, 231.42578619047612]),\n",
       " ('1971', [136.16195999999997, -12.153000000000002, 259.55428919999997]),\n",
       " ('1972', [129.17204166666667, -11.719291666666665, 238.54539749999995]),\n",
       " ('1973', [116.356125, -11.711541666666664, 294.16444416666667]),\n",
       " ('1974', [125.08609090909091, -10.670681818181817, 239.49134636363632]),\n",
       " ('1975', [125.41183333333332, -11.249541666666666, 277.4406354166666]),\n",
       " ('1976', [137.26139999999998, -11.6584, 210.99404933333338]),\n",
       " ('1977', [139.33685714285716, -11.820114285714288, 255.30692799999997]),\n",
       " ('1978', [134.38385, -10.1125, 247.85456749999997]),\n",
       " ('1979', [137.51694444444445, -11.879083333333332, 226.0566886111111]),\n",
       " ('1980', [126.89337499999999, -11.098531250000002, 210.438730625]),\n",
       " ('1981', [127.96074999999999, -11.57044444444444, 211.69224499999987]),\n",
       " ('1982', [125.14522, -11.34874, 251.2374241999999]),\n",
       " ('1983', [126.14368085106382, -12.302872340425532, 237.46428063829788]),\n",
       " ('1984', [127.95625, -12.01503125, 239.31873000000002]),\n",
       " ('1985', [132.86585294117646, -10.313735294117647, 242.61716941176468]),\n",
       " ('1986', [126.46589189189187, -11.36972972972973, 237.45331405405403]),\n",
       " ('1987', [124.62895454545459, -11.076636363636363, 246.30455568181816]),\n",
       " ('1988', [124.96954098360652, -10.131918032786881, 221.76072409836055]),\n",
       " ('1989', [124.09290909090907, -12.034439393939392, 243.40140212121216]),\n",
       " ('1990', [123.05484722222221, -11.943763888888887, 228.72988680555557]),\n",
       " ('1991', [120.76365934065933, -11.811505494505496, 239.72468637362644]),\n",
       " ('1992', [123.34843877551019, -11.02428571428571, 268.67293306122457]),\n",
       " ('1993', [128.47726190476195, -12.354690476190472, 233.35884746031746]),\n",
       " ('1994', [125.28786086956516, -11.60436521739131, 245.103532521739]),\n",
       " ('1995', [127.54160000000005, -10.306577777777775, 244.83636022222225]),\n",
       " ('1996', [128.8016972477064, -10.586192660550452, 233.63920944954117]),\n",
       " ('1997', [122.52639230769233, -10.465015384615384, 236.67275192307696]),\n",
       " ('1998', [117.37929139072851, -10.426311258278146, 259.7255417880794]),\n",
       " ('1999', [124.9414662921348, -8.975898876404496, 239.20207820224704]),\n",
       " ('2000', [127.90901562499995, -9.551838541666667, 241.43995468750003]),\n",
       " ('2001', [125.54486635944696, -8.41986635944701, 249.55946009216584]),\n",
       " ('2002', [124.45466666666664, -9.050469696969696, 242.02284873737392]),\n",
       " ('2003', [125.20448818897644, -8.667015748031499, 224.31928944881895]),\n",
       " ('2004', [124.63769259259257, -8.482974074074079, 234.4545245925925]),\n",
       " ('2005', [125.88370394736849, -8.865549342105272, 237.92753763157893]),\n",
       " ('2006', [124.63864687500009, -8.347534374999986, 243.74322003125002]),\n",
       " ('2007', [125.93794035087717, -8.019221052631572, 248.89836498245631]),\n",
       " ('2008', [128.76611067193681, -7.879209486166006, 236.3436939525691]),\n",
       " ('2009', [124.53823200000012, -8.194216000000003, 241.28989071999987]),\n",
       " ('2010', [118.92348437499999, -8.111140624999999, 238.0424034375001])]"
      ]
     },
     "execution_count": 7,
     "metadata": {},
     "output_type": "execute_result"
    }
   ],
   "source": [
    "def mean_song(item):\n",
    "    key, value = item\n",
    "    year, length = key, len(list(value))\n",
    "    tempos, loudness, duration = 0, 0, 0\n",
    "    for val in list(value):\n",
    "        tempos += float(val[9])\n",
    "        loudness += float(val[12])\n",
    "        duration += float(val[6])    \n",
    "    return (key, [tempos/length, loudness/length, duration/length])\n",
    "    \n",
    "songs_rdd7 = songs_rdd6.map(mean_song).sortByKey()\n",
    "songs_rdd7.collect()"
   ]
  },
  {
   "cell_type": "markdown",
   "id": "upper-carnival",
   "metadata": {},
   "source": [
    "### 4. ¿Cuál es el estilo que más abusa de los efectos de fade in y fade out (mayor número de segundos desde inicio al final del fade in más desde el inicio del fade out al final de la canción)?"
   ]
  },
  {
   "cell_type": "markdown",
   "id": "attached-surname",
   "metadata": {},
   "source": [
    "A partir de las variables del problema, para determinar el estilo que más abusa de los efectos *fade in* y *fade out* se utiliza la suguiente expresión:\n",
    "\n",
    "$$end\\_of\\_fade\\_in + duration - start\\_of\\_fade\\_out$$\n",
    "\n",
    "El número de segundos desde el inicio de la canción hasta el final del *fade in* está dato por la variable $end\\_of\\_fade\\_in$.\n",
    "\n",
    "El número de segundos desde el inicio del *fade out* hasta el final de la canción está dado por la expresión: $duration - start\\_of\\_fade\\_out$\n",
    "\n",
    "Además, teniendo en cuenta que según los datos los efectos de fade in y fade out no están asociados directamente a un estilo, se halla la canción que más abusa de estos efectos y damos como respuesta el estilo asociado. \n",
    "\n",
    "En el resultado aparece el efecto *fade* calculado, el estilo y la canción que le corresponde."
   ]
  },
  {
   "cell_type": "code",
   "execution_count": 8,
   "id": "still-passage",
   "metadata": {},
   "outputs": [
    {
     "data": {
      "text/plain": [
       "[(123.34402, ('industrial dance', 'bereit'))]"
      ]
     },
     "execution_count": 8,
     "metadata": {},
     "output_type": "execute_result"
    }
   ],
   "source": [
    "def map_song(item):\n",
    "    return (float(item[7]) + float(item[6]) - float(item[8]), (item[14], item[1]))\n",
    "\n",
    "songs_rdd8 = songs_rdd.map(map_song)\n",
    "songs_rdd9 = songs_rdd8.sortByKey(ascending=False)\n",
    "songs_rdd9.take(1)"
   ]
  },
  {
   "cell_type": "markdown",
   "id": "transparent-cabinet",
   "metadata": {},
   "source": [
    "La canción que más abusa pertenece al estilo *industrial dance*"
   ]
  },
  {
   "cell_type": "markdown",
   "id": "recovered-reservation",
   "metadata": {},
   "source": [
    "### Otra interpretación: \n",
    "Una interpretación diferente podría ser que el estilo que más abusa de los efectos fades es aquel en que sus canciones abusan más de este efecto en media"
   ]
  },
  {
   "cell_type": "code",
   "execution_count": 9,
   "id": "classified-match",
   "metadata": {},
   "outputs": [
    {
     "data": {
      "text/plain": [
       "[('industrial dance', 61.67226499999998)]"
      ]
     },
     "execution_count": 9,
     "metadata": {},
     "output_type": "execute_result"
    }
   ],
   "source": [
    "def group_mean(item):\n",
    "    style = item[0]\n",
    "    acum_fade = 0\n",
    "    for fade, _ in list(item[1]):\n",
    "        acum_fade += fade\n",
    "    return style, acum_fade/len(list(item[1]))\n",
    "\n",
    "grouped = songs_rdd8.groupBy(lambda item: item[1][0])\n",
    "\n",
    "song_rdd_n = grouped.map(group_mean).sortBy(lambda item: item[1], ascending=False)\n",
    "song_rdd_n.take(1)"
   ]
  },
  {
   "cell_type": "markdown",
   "id": "reported-helena",
   "metadata": {},
   "source": [
    "Ambas interpretaciones indican que el estilo que más abusa de los efectos *fades* es el *industrial dance*"
   ]
  },
  {
   "cell_type": "markdown",
   "id": "reasonable-retreat",
   "metadata": {},
   "source": [
    "### 5. ¿Cual es la canción más popular (hotness) de los 5 artistas más populares (hotness)?\n",
    "\n",
    "Para resolver esta consulta se siguieron los siguientes pasos:\n",
    "\n",
    "1. Ordenar los artistas según su popularidad y tomar los 5 más populares.\n",
    "2. Eliminar de la lista de canciones las que se desconoce su valor de popularidad\n",
    "3. Agrupar las canciones por artista y quedarnos con la que mayor popularidad tiene en cada grupo\n",
    "4. Hacer un join entre la lista de los 5 artistas más populares y la lista de la canción más popular por artista\n",
    "\n",
    "\n",
    "Por último los resultados se presentan en tupas de la forma: $(artist\\_id, artist\\_name, artist\\_hotness, song\\_name, song\\_hotnese)$"
   ]
  },
  {
   "cell_type": "code",
   "execution_count": 10,
   "id": "eligible-ideal",
   "metadata": {},
   "outputs": [
    {
     "data": {
      "text/plain": [
       "[('ARRH63Y1187FB47783',\n",
       "  'Kanye West',\n",
       "  '1.082502557',\n",
       "  'Street Lights',\n",
       "  '0.814517241'),\n",
       " ('ARF8HTQ1187B9AE693', 'Daft Punk', '1.021255588', 'Da Funk', '0.8622545'),\n",
       " ('ARTDQRC1187FB4EFD4',\n",
       "  'Black Eyed Peas',\n",
       "  '1.005941966',\n",
       "  \"Let's Get It Started\",\n",
       "  '0.624425493'),\n",
       " ('ARS54I31187FB46721',\n",
       "  'Taylor Swift',\n",
       "  '0.922412443',\n",
       "  'The Way I Loved You',\n",
       "  '0.853828893'),\n",
       " ('ARJ7KF01187B98D717',\n",
       "  'Coldplay',\n",
       "  '0.916053228',\n",
       "  'One I Love',\n",
       "  '0.810263613')]"
      ]
     },
     "execution_count": 10,
     "metadata": {},
     "output_type": "execute_result"
    }
   ],
   "source": [
    "artists_rdd3 = artists_rdd.sortBy(lambda item: item[2], ascending=False).map(lambda item: (item[0], item)).take(5)\n",
    "artists_rdd3 = sc.parallelize(artists_rdd3) #los 5 aristas más populares\n",
    "\n",
    "songs_rdd10 = songs_rdd.filter(lambda item: item[3] != 'NA')\n",
    "songs_rdd10 = songs_rdd10.groupBy(lambda item: item[4])\n",
    "\n",
    "def get_max(item):\n",
    "    artist_id = item[0]\n",
    "    all_songs = list(item[1])\n",
    "    \n",
    "    max_score, song = 0, []\n",
    "    \n",
    "    for s in all_songs:\n",
    "        if max_score < float(s[3]):\n",
    "            max_score = float(s[3])\n",
    "            song = s\n",
    "    return (artist_id, song)\n",
    "\n",
    "\n",
    "songs_rdd11 = songs_rdd10.map(get_max) # de cada artista la canción más hotness\n",
    "join_rdd2 = artists_rdd3.join(songs_rdd11)\n",
    "join_rdd3 = join_rdd2.map(lambda item: (item[0], item[1][0][1], item[1][0][2], item[1][1][1], item[1][1][3]))\n",
    "join_rdd4 = join_rdd3.sortBy(lambda item: item[2], ascending=False)\n",
    "join_rdd4.collect()"
   ]
  }
 ],
 "metadata": {
  "kernelspec": {
   "display_name": "Python 3",
   "language": "python",
   "name": "python3"
  },
  "language_info": {
   "codemirror_mode": {
    "name": "ipython",
    "version": 3
   },
   "file_extension": ".py",
   "mimetype": "text/x-python",
   "name": "python",
   "nbconvert_exporter": "python",
   "pygments_lexer": "ipython3",
   "version": "3.6.8"
  }
 },
 "nbformat": 4,
 "nbformat_minor": 5
}
