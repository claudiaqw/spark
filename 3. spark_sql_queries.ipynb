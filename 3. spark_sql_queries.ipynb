{
 "cells": [
  {
   "cell_type": "markdown",
   "id": "elder-copyright",
   "metadata": {},
   "source": [
    "# Spark SQL: consultas\n",
    "\n",
    "#### Máster en Data Science y Big Data, AFI Escuela de Finanzas\n",
    "#### Claudia Quintana Wong"
   ]
  },
  {
   "cell_type": "markdown",
   "id": "important-despite",
   "metadata": {},
   "source": [
    "## Descripción de ficheros\n",
    "\n",
    "Fichero albums.tsv:\n",
    "* id: Identificador único del disco.\n",
    "* title: Título del disco.\n",
    "\n",
    "Fichero artists.tsv:\n",
    "\n",
    "* id: Identificador único del artista.\n",
    "* name: Nombre del artista.\n",
    "* hotness: Nivel de popularidad del artista.\n",
    "* familiarity: Reconocimiento del artista.\n",
    "* location: Ubicación del artista.\n",
    "\n",
    "\n",
    "Fichero songs.tsv:\n",
    "\n",
    "* id: Identificador único de la canción.\n",
    "* title: Título de la canción.\n",
    "* year: Año de publicación de la canción.\n",
    "* hotness: Popularidad de la canción.\n",
    "* id_artist: Identificador único del artista de la canción.\n",
    "* id_album: Identificador único del álbum de la canción.\n",
    "* duration: Duración en segundos de la canción.\n",
    "* end_of_fade_in: Segundo de la canción en el que termina el fade in.\n",
    "* start_of_fade_out: Segundo de la canción en el que empieza el fade out.\n",
    "* tempo: Tempo de la canción.\n",
    "* time_signature: Número de tiempos por compás de la canción.\n",
    "* key: Escala de la canción (de 0 a 11).\n",
    "* loudness: Volumen de la canción.\n",
    "* mode: Tipo de escala de la canción (mayor = 0 o menor = 1)\n",
    "* style: Estilo de la canción."
   ]
  },
  {
   "cell_type": "markdown",
   "id": "perceived-campaign",
   "metadata": {},
   "source": [
    "## Carga de datos"
   ]
  },
  {
   "cell_type": "code",
   "execution_count": 1,
   "id": "informative-snake",
   "metadata": {},
   "outputs": [],
   "source": [
    "from pyspark.sql.types import Row\n",
    "from pyspark.sql import functions as F"
   ]
  },
  {
   "cell_type": "code",
   "execution_count": 2,
   "id": "removed-light",
   "metadata": {},
   "outputs": [],
   "source": [
    "def albumParser(line):\n",
    "    fields = line.split('\\t')\n",
    "    return Row(id = fields[0], title = fields[1])\n",
    "\n",
    "def artistParser(line):\n",
    "    fields = line.split('\\t')\n",
    "    return Row(id=fields[0], \n",
    "               name = fields[1], \n",
    "               hotness = float(fields[2]), \n",
    "               familiarity = fields[3], \n",
    "               location = fields[4])\n",
    "\n",
    "def songParser(line):\n",
    "    fields = line.split('\\t')\n",
    "    return Row(id = fields[0],\n",
    "               title = fields[1],\n",
    "               year = int(fields[2]),\n",
    "               hotness = float(fields[3]) if fields[3] != 'NA' else 0,\n",
    "               id_artist = fields[4],\n",
    "               id_album = fields[5],\n",
    "               duration = float(fields[6]),\n",
    "               end_of_fade_in = float(fields[7]),\n",
    "               start_of_fade_out = float(fields[8]),\n",
    "               tempo = float(fields[9]),\n",
    "               time_signature = fields[10],\n",
    "               key = fields[11],\n",
    "               loudness = float(fields[12]),\n",
    "               mode = int(fields[13]),\n",
    "               style = fields[14])"
   ]
  },
  {
   "cell_type": "code",
   "execution_count": 3,
   "id": "primary-lightning",
   "metadata": {},
   "outputs": [],
   "source": [
    "data_folder = './data'\n",
    "\n",
    "albums = sc.textFile(f'{data_folder}/albums.tsv')\n",
    "artists = sc.textFile(f'{data_folder}/artists.tsv')\n",
    "songs = sc.textFile(f'{data_folder}/songs.tsv')"
   ]
  },
  {
   "cell_type": "code",
   "execution_count": 4,
   "id": "recorded-typing",
   "metadata": {},
   "outputs": [],
   "source": [
    "albums_rows = albums.map(albumParser)\n",
    "artists_rows = artists.map(artistParser)\n",
    "songs_rows = songs.map(songParser)"
   ]
  },
  {
   "cell_type": "code",
   "execution_count": 5,
   "id": "removed-alfred",
   "metadata": {},
   "outputs": [],
   "source": [
    "album_df = spark.createDataFrame(albums_rows)\n",
    "artist_df = spark.createDataFrame(artists_rows)\n",
    "song_df = spark.createDataFrame(songs_rows)"
   ]
  },
  {
   "cell_type": "code",
   "execution_count": 6,
   "id": "viral-wireless",
   "metadata": {},
   "outputs": [],
   "source": [
    "album_df.createOrReplaceTempView('Albums')\n",
    "artist_df.createOrReplaceTempView('Artist')\n",
    "song_df.createOrReplaceTempView('Song')"
   ]
  },
  {
   "cell_type": "markdown",
   "id": "precious-scheme",
   "metadata": {},
   "source": [
    "### 1. ¿Cuál es el estilo más rápido (tempo) en media?\n",
    "\n",
    "Para dar respuesta a esta consulta seguiremos los siguientes pasos:\n",
    "\n",
    "1. Agrupar las canciones por estilo\n",
    "2. Hallar la media en cada grupo teniendo en cuenta la variable *tempo*\n",
    "3. Ordenar de manera ascendente de acuerdo a la media calculada.\n",
    "4. Devolver solo el primer elemento de la lista"
   ]
  },
  {
   "cell_type": "code",
   "execution_count": 7,
   "id": "falling-delaware",
   "metadata": {},
   "outputs": [
    {
     "name": "stdout",
     "output_type": "stream",
     "text": [
      "+--------+---------+\n",
      "|   style|avg_tempo|\n",
      "+--------+---------+\n",
      "|rebetika|   47.447|\n",
      "+--------+---------+\n",
      "\n"
     ]
    }
   ],
   "source": [
    "spark.sql(\"\"\"SELECT style, AVG(tempo) AS avg_tempo  \n",
    "          FROM Song \n",
    "          GROUP BY style \n",
    "          ORDER BY avg_tempo \n",
    "          LIMIT 1\"\"\").show()"
   ]
  },
  {
   "cell_type": "markdown",
   "id": "proprietary-retention",
   "metadata": {},
   "source": [
    "### 2. ¿Cuales son los 5 artistas, ubicados en UK (cualquier territorio de UK), con mayor número de canciones en escala menor (mode = 1)?\n",
    "\n",
    "Para dar respuesta a esta interrogante seguiremo los siguientes pasos:\n",
    "\n",
    "1. Obtener los artistas ubicados en UK (cualquier territorio de UK)\n",
    "2. Seleccionar las canciones en escala menor\n",
    "3. Mezclar los artistas de UK con las canciones seleccionadas\n",
    "4. Hacer un conteo de canciones por artista\n",
    "5. Ordenar descendientemente los artistas de acuerdo al conteo y seleccionar los 5 primeros\n"
   ]
  },
  {
   "cell_type": "code",
   "execution_count": 8,
   "id": "compact-wallet",
   "metadata": {},
   "outputs": [
    {
     "name": "stdout",
     "output_type": "stream",
     "text": [
      "+------------------+------------------+---------+\n",
      "|                id|              name|count(id)|\n",
      "+------------------+------------------+---------+\n",
      "|AR9W3X91187FB3994C|      Phil Collins|        9|\n",
      "|ARH6W4X1187B99274F|         Radiohead|        7|\n",
      "|ARFCUN31187B9AD578|The Rolling Stones|        7|\n",
      "|ARAIABB1187B9AC6E2|              Seal|        6|\n",
      "|ARD8JVH1187FB4DA04|       Bad Company|        6|\n",
      "+------------------+------------------+---------+\n",
      "\n"
     ]
    }
   ],
   "source": [
    "spark.sql(\"\"\"SELECT A.id, A.name, COUNT(A.id)\n",
    "        FROM Artist A INNER JOIN Song S ON A.id=S.id_artist\n",
    "        WHERE (A.location like '%UK%' OR A.location like '%United Kingdom%' OR A.location like '%England%') AND S.mode = 1\n",
    "        GROUP BY A.id, A.name\n",
    "        ORDER BY COUNT(A.id) DESC\n",
    "        LIMIT 5\n",
    "        \"\"\"\n",
    "        ).show()"
   ]
  },
  {
   "cell_type": "markdown",
   "id": "demographic-glossary",
   "metadata": {},
   "source": [
    "### 3. Desde 1970 hasta hoy, ¿las canciones son más rápidas (tempo), altas (loudness) y cortas (duration) en media? Ordena los resultados por año ascendente."
   ]
  },
  {
   "cell_type": "markdown",
   "id": "iraqi-asset",
   "metadata": {},
   "source": [
    "Se seguirán los siguientes pasos:\n",
    "\n",
    "1. Seleccionar las canciones de 1970 hasta hoy\n",
    "2. Seleccionar las columnas: *tempo*, *loudness*, *duration*\n",
    "3. Agrupar las canciones por año y calcular la media de las variables selecciondas\n",
    "4. Ordenar los grupos según el año de lanzamiento"
   ]
  },
  {
   "cell_type": "code",
   "execution_count": 9,
   "id": "leading-blade",
   "metadata": {},
   "outputs": [
    {
     "name": "stdout",
     "output_type": "stream",
     "text": [
      "+----+------------------+-------------------+------------------+\n",
      "|year|         avg_tempo|       avg_loudness|      avg_duration|\n",
      "+----+------------------+-------------------+------------------+\n",
      "|1970|121.34628571428571| -11.92847619047619|231.42578619047623|\n",
      "|1971|         136.16196|-12.153000000000002|259.55428919999997|\n",
      "|1972|129.17204166666667|-11.719291666666665|238.54539750000004|\n",
      "|1973|        116.356125|-11.711541666666667|294.16444416666667|\n",
      "|1974|125.08609090909088|-10.670681818181817|239.49134636363635|\n",
      "|1975|125.41183333333333|-11.249541666666666| 277.4406354166667|\n",
      "|1976|137.26139999999998|           -11.6584| 210.9940493333333|\n",
      "|1977|139.33685714285713|-11.820114285714284|255.30692800000003|\n",
      "|1978|         134.38385|           -10.1125|247.85456749999997|\n",
      "|1979|137.51694444444445|-11.879083333333334| 226.0566886111111|\n",
      "|1980|126.89337499999999|       -11.09853125|     210.438730625|\n",
      "|1981|127.96074999999999|-11.570444444444446|211.69224499999999|\n",
      "|1982|         125.14522|-11.348739999999998|251.23742419999996|\n",
      "|1983|126.14368085106385| -12.30287234042553|237.46428063829788|\n",
      "|1984|         127.95625|-12.015031250000002|         239.31873|\n",
      "|1985|132.86585294117648|-10.313735294117645|242.61716941176468|\n",
      "|1986|126.46589189189187| -11.36972972972973|237.45331405405403|\n",
      "|1987|124.62895454545452|-11.076636363636363|246.30455568181816|\n",
      "|1988|124.96954098360652|-10.131918032786885|221.76072409836067|\n",
      "|1989|124.09290909090909|-12.034439393939392| 243.4014021212121|\n",
      "+----+------------------+-------------------+------------------+\n",
      "only showing top 20 rows\n",
      "\n"
     ]
    }
   ],
   "source": [
    "spark.sql(\"\"\"SELECT S.year, \n",
    "                    AVG(S.tempo) AS avg_tempo, \n",
    "                    AVG(S.loudness) AS avg_loudness, \n",
    "                    AVG(S.duration) AS avg_duration\n",
    "            FROM Song S            \n",
    "            WHERE S.year >= 1970\n",
    "            GROUP BY S.year\n",
    "            ORDER BY S.year ASC\"\"\").show()"
   ]
  },
  {
   "cell_type": "markdown",
   "id": "meaning-hindu",
   "metadata": {},
   "source": [
    "### 4. ¿Cuál es el estilo que más abusa de los efectos de fade in y fade out (mayor número de segundos desde inicio al final del fade in más desde el inicio del fade out al final de la canción)?\n",
    "\n",
    "Se utiliza la misma expresión de cálculo empleada para resolver la consulta en Spark Core.\n",
    "\n",
    "$$end\\_of\\_fade\\_in + duration - start\\_of\\_fade\\_out$$\n",
    "\n",
    "Para encontrar el estilo que más abusa de estos efectos se determina la canción que cumple este requisito y se devuelve el estilo asociado.\n",
    "\n",
    "Los pasos a seguir son:\n",
    "\n",
    "1. Calcular la expresión para cada canción de la base de datos\n",
    "2. Ordenar de manera descendente según la métrica calculada\n",
    "3. Devolver el estilo y el título de la primera observación en el resultado anterior"
   ]
  },
  {
   "cell_type": "code",
   "execution_count": 10,
   "id": "chemical-justice",
   "metadata": {},
   "outputs": [
    {
     "name": "stdout",
     "output_type": "stream",
     "text": [
      "+----------------+------+------------+\n",
      "|           style| title|fades_effect|\n",
      "+----------------+------+------------+\n",
      "|industrial dance|bereit|   123.34402|\n",
      "+----------------+------+------------+\n",
      "\n"
     ]
    }
   ],
   "source": [
    "spark.sql(\"\"\"SELECT S.style, S.title, (S.end_of_fade_in + S.duration - S.start_of_fade_out) as fades_effect\n",
    "            FROM Song S\n",
    "            ORDER BY fades_effect DESC\n",
    "            LIMIT 1\n",
    "            \"\"\").show()"
   ]
  },
  {
   "cell_type": "markdown",
   "id": "characteristic-guest",
   "metadata": {},
   "source": [
    "### Intepretación 2\n",
    "El estilo que más abusa de los efectos fades es aquel en que sus canciones abusan más de este efecto en media"
   ]
  },
  {
   "cell_type": "code",
   "execution_count": 11,
   "id": "bound-bangkok",
   "metadata": {},
   "outputs": [
    {
     "name": "stdout",
     "output_type": "stream",
     "text": [
      "+----------------+-----------------+\n",
      "|           style| avg_fades_effect|\n",
      "+----------------+-----------------+\n",
      "|industrial dance|61.67226499999998|\n",
      "+----------------+-----------------+\n",
      "\n"
     ]
    }
   ],
   "source": [
    "spark.sql(\"\"\"SELECT S.style, AVG(S.end_of_fade_in + S.duration - S.start_of_fade_out) as avg_fades_effect\n",
    "FROM Song S\n",
    "GROUP BY S.style\n",
    "ORDER BY avg_fades_effect DESC\n",
    "LIMIT 1\n",
    "\n",
    "\"\"\").show()"
   ]
  },
  {
   "cell_type": "markdown",
   "id": "conceptual-memorabilia",
   "metadata": {},
   "source": [
    "### 5. ¿Cual es la canción más popular (hotness) de los 5 artistas más populares (hotness)?"
   ]
  },
  {
   "cell_type": "markdown",
   "id": "mighty-bottom",
   "metadata": {},
   "source": [
    "Para dar respuesta a esta consulta se emplea una subconsulta. La subconsulta se encarga de calcular el valor máximo de la variable *hotness* entre las canciones interpretadas por determinado artista que recibe de la consulta general. De manera tal, que esta subconsulta se ejecuta por cada uno de los artistas. Posteriormente se hace el match basado en este valor máximo encontrado."
   ]
  },
  {
   "cell_type": "code",
   "execution_count": 12,
   "id": "dress-hazard",
   "metadata": {},
   "outputs": [
    {
     "name": "stdout",
     "output_type": "stream",
     "text": [
      "+------------------+---------------+--------------+------------------+--------------------+------------+\n",
      "|                id|           name|artist_hotness|                id|               title|song_hotness|\n",
      "+------------------+---------------+--------------+------------------+--------------------+------------+\n",
      "|ARRH63Y1187FB47783|     Kanye West|   1.082502557|SOJMUAN12AB0183911|       Street Lights| 0.814517241|\n",
      "|ARF8HTQ1187B9AE693|      Daft Punk|   1.021255588|SONJBQX12A6D4F8382|             Da Funk|   0.8622545|\n",
      "|ARTDQRC1187FB4EFD4|Black Eyed Peas|   1.005941966|SOCHRXB12A8AE48069|Let's Get It Started| 0.624425493|\n",
      "|ARS54I31187FB46721|   Taylor Swift|   0.922412443|SOTNWCI12AAF3B2028| The Way I Loved You| 0.853828893|\n",
      "|ARJ7KF01187B98D717|       Coldplay|   0.916053228|SOEHTZE12A6310F0F2|          One I Love| 0.810263613|\n",
      "+------------------+---------------+--------------+------------------+--------------------+------------+\n",
      "\n"
     ]
    }
   ],
   "source": [
    "spark.sql(\"\"\"\n",
    "\n",
    "SELECT A.id, A.name, A.hotness AS artist_hotness, S.id, S.title, S.hotness AS song_hotness\n",
    "FROM Artist A INNER JOIN Song S ON A.id=S.id_artist\n",
    "WHERE S.hotness = \n",
    "    (\n",
    "        SELECT MAX(S1.hotness)\n",
    "        FROM Artist A1 INNER JOIN Song S1 ON A1.id=S1.id_artist\n",
    "        WHERE A1.id = A.id\n",
    "    )\n",
    "ORDER BY artist_hotness DESC\n",
    "LIMIT 5\n",
    "\n",
    "\"\"\").show()"
   ]
  }
 ],
 "metadata": {
  "kernelspec": {
   "display_name": "Python 3",
   "language": "python",
   "name": "python3"
  },
  "language_info": {
   "codemirror_mode": {
    "name": "ipython",
    "version": 3
   },
   "file_extension": ".py",
   "mimetype": "text/x-python",
   "name": "python",
   "nbconvert_exporter": "python",
   "pygments_lexer": "ipython3",
   "version": "3.6.8"
  }
 },
 "nbformat": 4,
 "nbformat_minor": 5
}
